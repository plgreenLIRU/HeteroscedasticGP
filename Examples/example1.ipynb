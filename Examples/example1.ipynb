{
 "cells": [
  {
   "cell_type": "markdown",
   "id": "d850cb24",
   "metadata": {},
   "source": [
    "# Introduction"
   ]
  },
  {
   "cell_type": "markdown",
   "id": "60809bae",
   "metadata": {},
   "source": [
    "In this example we fit our model for the case where we have repeated observations for the same input."
   ]
  },
  {
   "cell_type": "markdown",
   "id": "ab9930f4",
   "metadata": {},
   "source": [
    "# Initialise"
   ]
  },
  {
   "cell_type": "code",
   "execution_count": null,
   "id": "374f909c",
   "metadata": {},
   "outputs": [],
   "source": [
    "import numpy as np\n",
    "from matplotlib import pyplot as plt\n",
    "from HeteroscedasticGP.Models import BasicRegressor"
   ]
  },
  {
   "cell_type": "markdown",
   "id": "991338c2",
   "metadata": {},
   "source": [
    "# Make data"
   ]
  },
  {
   "cell_type": "code",
   "execution_count": null,
   "id": "eeac090b",
   "metadata": {},
   "outputs": [],
   "source": [
    "# Fixing seed for example\n",
    "np.random.seed(42)\n",
    "\n",
    "# Inputs\n",
    "n_repeat = 100\n",
    "X = np.repeat(0, n_repeat)\n",
    "X = np.append(X, np.repeat(1, n_repeat))\n",
    "X = np.append(X, np.repeat(2, n_repeat))\n",
    "X = np.vstack(X)\n",
    "true_var = np.repeat(0.3, n_repeat)\n",
    "true_var = np.append(true_var, np.repeat(1, n_repeat))\n",
    "true_var = np.append(true_var, np.repeat(1.5, n_repeat))\n",
    "\n",
    "# True function\n",
    "f_true = np.sin(X).ravel()\n",
    "\n",
    "# Generate noisy outputs\n",
    "y = f_true + true_var * np.random.randn(len(X))\n",
    "\n",
    "# True over new inputs\n",
    "X_star = np.vstack(np.linspace(0, 2, 50))\n",
    "f_star_true = np.sin(X_star).ravel()\n",
    "\n",
    "# Extract true z\n",
    "z_true = np.log(np.unique(true_var))\n"
   ]
  },
  {
   "cell_type": "code",
   "execution_count": null,
   "id": "ca2fead7",
   "metadata": {},
   "outputs": [],
   "source": [
    "plt.figure(figsize=(8, 4))\n",
    "plt.scatter(X, y, c=\"black\", label=\"Observations\")\n",
    "plt.scatter(X, f_true, c=\"red\", label=\"True function\")\n",
    "plt.legend()\n",
    "plt.title(\"1D Regression with Heteroscedastic Noise\")\n",
    "plt.grid()\n",
    "plt.show()"
   ]
  },
  {
   "cell_type": "markdown",
   "id": "6d30b4ca",
   "metadata": {},
   "source": [
    "# Fit model"
   ]
  },
  {
   "cell_type": "code",
   "execution_count": null,
   "id": "987ea2aa",
   "metadata": {},
   "outputs": [],
   "source": [
    "m = BasicRegressor(ARD=False)"
   ]
  },
  {
   "cell_type": "code",
   "execution_count": null,
   "id": "19189b8f",
   "metadata": {},
   "outputs": [],
   "source": [
    "f_params0 = {'scale': 1.0, 'lengthscale': 1.0}\n",
    "z_params0 = {'scale':1.0, 'lengthscale': 1.0}\n",
    "z0 = np.zeros(3)\n",
    "m.train(X, y, f_params0=f_params0, z_params0=z_params0, z0=z0, z0_mean=0)"
   ]
  },
  {
   "cell_type": "code",
   "execution_count": null,
   "id": "b9dfc702",
   "metadata": {},
   "outputs": [],
   "source": [
    "# Print best parameters\n",
    "for keys in m.f_params_opt.keys():\n",
    "    print(f\"f_param {keys}: {m.f_params_opt[keys]}\")\n",
    "for keys in m.z_params_opt.keys():\n",
    "    print(f\"z_param {keys}: {m.z_params_opt[keys]}\")\n",
    "\n",
    "print('Most probable z:', m.z_opt)"
   ]
  },
  {
   "cell_type": "markdown",
   "id": "61cdbd6a",
   "metadata": {},
   "source": [
    "# Predictions"
   ]
  },
  {
   "cell_type": "code",
   "execution_count": null,
   "id": "d552d61a",
   "metadata": {},
   "outputs": [],
   "source": [
    "mu_star, var_star, z_star = m.predict(X_star)"
   ]
  },
  {
   "cell_type": "code",
   "execution_count": null,
   "id": "42cb9993",
   "metadata": {},
   "outputs": [],
   "source": [
    "plt.figure(figsize=(10, 6))\n",
    "plt.scatter(X, y, c=\"black\", label=\"Observations\")\n",
    "plt.plot(X_star, f_star_true, \"r\", lw=2, label=\"True function\")\n",
    "plt.plot(X_star, mu_star, label=\"Predicted function\")\n",
    "plt.fill_between(\n",
    "    X_star.ravel(),\n",
    "    mu_star - 3 * np.sqrt(var_star),\n",
    "    mu_star + 3 * np.sqrt(var_star),\n",
    "    color=\"blue\", alpha=0.2\n",
    ")\n",
    "plt.legend()\n",
    "plt.title(\"1D Regression with Heteroscedastic Noise\")\n",
    "plt.grid()\n",
    "plt.show()"
   ]
  }
 ],
 "metadata": {
  "kernelspec": {
   "display_name": "Python 3",
   "language": "python",
   "name": "python3"
  },
  "language_info": {
   "codemirror_mode": {
    "name": "ipython",
    "version": 3
   },
   "file_extension": ".py",
   "mimetype": "text/x-python",
   "name": "python",
   "nbconvert_exporter": "python",
   "pygments_lexer": "ipython3",
   "version": "3.11.0"
  }
 },
 "nbformat": 4,
 "nbformat_minor": 5
}
