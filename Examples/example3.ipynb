{
 "cells": [
  {
   "cell_type": "code",
   "execution_count": null,
   "id": "374f909c",
   "metadata": {},
   "outputs": [],
   "source": [
    "import numpy as np\n",
    "from matplotlib import pyplot as plt\n",
    "from HeteroscedasticGP.Models import BasicRegressor"
   ]
  },
  {
   "cell_type": "markdown",
   "id": "991338c2",
   "metadata": {},
   "source": [
    "# Make data"
   ]
  },
  {
   "cell_type": "code",
   "execution_count": null,
   "id": "eeac090b",
   "metadata": {},
   "outputs": [],
   "source": [
    "# Inputs\n",
    "X = np.repeat(0, 20)\n",
    "X = np.append(X, np.repeat(1, 20))\n",
    "X = np.append(X, np.repeat(2, 20))\n",
    "X = np.vstack(X)\n",
    "\n",
    "# True function\n",
    "f_true = np.sin(X).ravel()\n",
    "\n",
    "# Generate noisy outputs\n",
    "true_var = np.sqrt(X[:, 0] + 0.1)\n",
    "y = f_true + true_var * np.random.randn(len(X))\n"
   ]
  },
  {
   "cell_type": "code",
   "execution_count": null,
   "id": "ca2fead7",
   "metadata": {},
   "outputs": [],
   "source": [
    "plt.figure(figsize=(8, 4))\n",
    "plt.scatter(X, y, c=\"black\", label=\"Observations\")\n",
    "plt.plot(X, f_true, \"r\", lw=2, label=\"True function\")\n",
    "plt.fill_between(\n",
    "    X.ravel(),\n",
    "    f_true - 3 * np.sqrt(true_var),\n",
    "    f_true + 3 * np.sqrt(true_var),\n",
    "    color=\"blue\", alpha=0.2, label=\"True ±3σ\"\n",
    ")\n",
    "plt.legend()\n",
    "plt.title(\"1D Regression with Heteroscedastic Noise\")\n",
    "plt.grid()\n",
    "plt.show()"
   ]
  },
  {
   "cell_type": "markdown",
   "id": "6d30b4ca",
   "metadata": {},
   "source": [
    "# Fit model"
   ]
  },
  {
   "cell_type": "code",
   "execution_count": null,
   "id": "987ea2aa",
   "metadata": {},
   "outputs": [],
   "source": [
    "m = BasicRegressor(ARD=False)"
   ]
  },
  {
   "cell_type": "code",
   "execution_count": null,
   "id": "19189b8f",
   "metadata": {},
   "outputs": [],
   "source": [
    "f_params0 = {'lengthscale': 1}\n",
    "z_params0 = {'lengthscale': 1}\n",
    "z0 = np.array([0, 0, 0])\n",
    "m.train(X, y, f_params0=f_params0, z_params0=z_params0, z0=z0)"
   ]
  },
  {
   "cell_type": "code",
   "execution_count": null,
   "id": "ece1c21d",
   "metadata": {},
   "outputs": [],
   "source": [
    "assert m.repeated_X == True\n",
    "assert np.array_equal(m.J_list[0], np.array([0,  1,  2,  3,  4,  5,  6,  7,  8,  9, 10, 11, 12, 13, 14, 15, 16, 17, 18, 19]))\n",
    "assert np.array_equal(m.J_list[1], np.array([20, 21, 22, 23, 24, 25, 26, 27, 28, 29, 30, 31, 32, 33, 34, 35, 36, 37, 38, 39]))\n",
    "assert np.array_equal(m.J_list[2], np.array([40, 41, 42, 43, 44, 45, 46, 47, 48, 49, 50, 51, 52, 53, 54, 55, 56, 57, 58, 59]))"
   ]
  }
 ],
 "metadata": {
  "kernelspec": {
   "display_name": "Python 3",
   "language": "python",
   "name": "python3"
  },
  "language_info": {
   "codemirror_mode": {
    "name": "ipython",
    "version": 3
   },
   "file_extension": ".py",
   "mimetype": "text/x-python",
   "name": "python",
   "nbconvert_exporter": "python",
   "pygments_lexer": "ipython3",
   "version": "3.12.3"
  }
 },
 "nbformat": 4,
 "nbformat_minor": 5
}
