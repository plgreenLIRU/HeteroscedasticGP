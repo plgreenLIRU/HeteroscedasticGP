{
 "cells": [
  {
   "cell_type": "code",
   "execution_count": null,
   "id": "374f909c",
   "metadata": {},
   "outputs": [],
   "source": [
    "import numpy as np\n",
    "from matplotlib import pyplot as plt\n",
    "from HeteroscedasticGP.Models import BasicRegressor"
   ]
  },
  {
   "cell_type": "markdown",
   "id": "991338c2",
   "metadata": {},
   "source": [
    "# Make data"
   ]
  },
  {
   "cell_type": "code",
   "execution_count": null,
   "id": "eeac090b",
   "metadata": {},
   "outputs": [],
   "source": [
    "from statsmodels.datasets import get_rdataset\n",
    "\n",
    "# Load the motorcycle data from R's 'MASS' package\n",
    "dataset = get_rdataset(\"mcycle\", \"MASS\").data\n",
    "\n",
    "# Extract features (time) and target (acceleration)\n",
    "X = dataset[\"times\"].values.reshape(-1, 1)  # 2D array\n",
    "y = dataset[\"accel\"].values  # 1D array"
   ]
  },
  {
   "cell_type": "code",
   "execution_count": null,
   "id": "ca2fead7",
   "metadata": {},
   "outputs": [],
   "source": [
    "plt.figure(figsize=(8, 4))\n",
    "plt.scatter(X, y, c=\"black\", label=\"Observations\")\n",
    "plt.legend()\n",
    "plt.title(\"Motorcycle Data\")\n",
    "plt.grid()\n",
    "plt.show()"
   ]
  },
  {
   "cell_type": "markdown",
   "id": "6d30b4ca",
   "metadata": {},
   "source": [
    "# Fit model"
   ]
  },
  {
   "cell_type": "code",
   "execution_count": null,
   "id": "79e0e967",
   "metadata": {},
   "outputs": [],
   "source": [
    "y_mean = np.mean(y)\n",
    "y_std = np.std(y)\n",
    "y_standardised = (y - y_mean) / y_std\n",
    "\n",
    "X_mean = np.mean(X)\n",
    "X_std = np.std(X)\n",
    "X_standardised = (X - X_mean) / X_std\n",
    "\n",
    "m = BasicRegressor(ARD=False)\n",
    "z0 = np.log(np.random.rand(len(y)))\n",
    "f_params0 = {'lengthscale': 1}\n",
    "z_params0 = {'lengthscale': 1}\n",
    "m.train(X=X_standardised, y=y_standardised, f_params0=f_params0, z_params0=z_params0, z0=z0)"
   ]
  },
  {
   "cell_type": "code",
   "execution_count": null,
   "id": "e5c3bd42",
   "metadata": {},
   "outputs": [],
   "source": [
    "print(m.f_params_opt)\n",
    "print(m.z_params_opt)"
   ]
  },
  {
   "cell_type": "markdown",
   "id": "56236c7a",
   "metadata": {},
   "source": [
    "# Predictions"
   ]
  },
  {
   "cell_type": "code",
   "execution_count": null,
   "id": "76d9fbce",
   "metadata": {},
   "outputs": [],
   "source": [
    "fig, ax = plt.subplots()\n",
    "ax.plot(X, np.sqrt(np.exp(m.z_opt)), marker='.')\n",
    "ax.set_ylabel('Estimated noise std')\n",
    "ax.grid()"
   ]
  },
  {
   "cell_type": "code",
   "execution_count": null,
   "id": "017747af",
   "metadata": {},
   "outputs": [],
   "source": [
    "mu_star, var_star = m.predict(X_standardised)"
   ]
  },
  {
   "cell_type": "code",
   "execution_count": null,
   "id": "0c68d90a",
   "metadata": {},
   "outputs": [],
   "source": [
    "plt.figure(figsize=(10, 6))\n",
    "plt.scatter(X, y_standardised, c=\"black\", label=\"Observations\")\n",
    "plt.plot(X, mu_star, \"red\", lw=2, label=\"Mean prediction\")\n",
    "plt.fill_between(\n",
    "    X.ravel(),\n",
    "    mu_star - 3 * np.sqrt(var_star),\n",
    "    mu_star + 3 * np.sqrt(var_star),\n",
    "    color=\"red\", alpha=0.2, label=\"Predicted ±3σ\"\n",
    ")\n",
    "plt.legend()\n",
    "plt.title(\"Basic Regression Model Applied to Motorcycle Data\")\n",
    "plt.grid()\n",
    "plt.show()"
   ]
  }
 ],
 "metadata": {
  "kernelspec": {
   "display_name": "Python 3",
   "language": "python",
   "name": "python3"
  },
  "language_info": {
   "codemirror_mode": {
    "name": "ipython",
    "version": 3
   },
   "file_extension": ".py",
   "mimetype": "text/x-python",
   "name": "python",
   "nbconvert_exporter": "python",
   "pygments_lexer": "ipython3",
   "version": "3.12.1"
  }
 },
 "nbformat": 4,
 "nbformat_minor": 5
}
