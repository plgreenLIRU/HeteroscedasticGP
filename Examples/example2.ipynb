{
 "cells": [
  {
   "cell_type": "code",
   "execution_count": null,
   "id": "374f909c",
   "metadata": {},
   "outputs": [],
   "source": [
    "import numpy as np\n",
    "from matplotlib import pyplot as plt\n",
    "from HeteroscedasticGP.Models import BasicRegressor"
   ]
  },
  {
   "cell_type": "markdown",
   "id": "991338c2",
   "metadata": {},
   "source": [
    "# Make data"
   ]
  },
  {
   "cell_type": "code",
   "execution_count": null,
   "id": "eeac090b",
   "metadata": {},
   "outputs": [],
   "source": [
    "# Fixing seed for example\n",
    "np.random.seed(42)\n",
    "\n",
    "# Inputs\n",
    "n = 50\n",
    "X = np.linspace(0, 10, n)[:, None]  # shape (n, 1)\n",
    "X_star = np.linspace(0, 10, 100)[:, None]\n",
    "\n",
    "# True function\n",
    "f_true = np.sin(X).ravel()\n",
    "\n",
    "# Heteroscedastic noise variance\n",
    "true_var = 0.5 + 0.4 * np.sin(0.5 * X)[:, 0] \n",
    "\n",
    "# Generate noisy outputs\n",
    "y = f_true + np.sqrt(true_var) * np.random.randn(n)"
   ]
  },
  {
   "cell_type": "code",
   "execution_count": null,
   "id": "8bbb98db",
   "metadata": {},
   "outputs": [],
   "source": [
    "plt.plot(true_var)"
   ]
  },
  {
   "cell_type": "code",
   "execution_count": null,
   "id": "ca2fead7",
   "metadata": {},
   "outputs": [],
   "source": [
    "plt.figure(figsize=(8, 4))\n",
    "plt.scatter(X, y, c=\"black\", label=\"Observations\")\n",
    "plt.plot(X, f_true, \"r\", lw=2, label=\"True function\")\n",
    "plt.fill_between(\n",
    "    X.ravel(),\n",
    "    f_true - 3 * np.sqrt(true_var),\n",
    "    f_true + 3 * np.sqrt(true_var),\n",
    "    color=\"blue\", alpha=0.2, label=\"True ±3σ\"\n",
    ")\n",
    "plt.legend()\n",
    "plt.title(\"1D Regression with Heteroscedastic Noise\")\n",
    "plt.grid()\n",
    "plt.show()"
   ]
  },
  {
   "cell_type": "markdown",
   "id": "6d30b4ca",
   "metadata": {},
   "source": [
    "# Fit model"
   ]
  },
  {
   "cell_type": "code",
   "execution_count": null,
   "id": "315db165",
   "metadata": {},
   "outputs": [],
   "source": [
    "m = BasicRegressor(ARD=False)\n",
    "z0 = np.repeat(np.log(np.var(y)), len(y))\n",
    "f_params0 = {'lengthscale': 1}\n",
    "z_params0 = {'lengthscale': 1}\n",
    "m.train(X=X, y=y, f_params0=f_params0, z_params0=z_params0, z0=z0)"
   ]
  },
  {
   "cell_type": "code",
   "execution_count": null,
   "id": "e5c3bd42",
   "metadata": {},
   "outputs": [],
   "source": [
    "print(m.f_params_opt)\n",
    "print(m.z_params_opt)"
   ]
  },
  {
   "cell_type": "markdown",
   "id": "56236c7a",
   "metadata": {},
   "source": [
    "# Predictions"
   ]
  },
  {
   "cell_type": "code",
   "execution_count": null,
   "id": "76d9fbce",
   "metadata": {},
   "outputs": [],
   "source": [
    "fig, ax = plt.subplots()\n",
    "ax.plot(np.log(true_var), marker='.')\n",
    "ax.plot(m.z_opt, marker='.')\n",
    "ax.grid()"
   ]
  },
  {
   "cell_type": "code",
   "execution_count": null,
   "id": "017747af",
   "metadata": {},
   "outputs": [],
   "source": [
    "mu_star, var_star = m.predict(X_star)"
   ]
  },
  {
   "cell_type": "code",
   "execution_count": null,
   "id": "0c68d90a",
   "metadata": {},
   "outputs": [],
   "source": [
    "plt.figure(figsize=(10, 6))\n",
    "plt.scatter(X, y, c=\"black\", label=\"Observations\")\n",
    "plt.plot(X, f_true, \"blue\", lw=2, label=\"True function\")\n",
    "plt.plot(X_star, mu_star, \"red\", lw=2, label=\"Mean prediction\")\n",
    "plt.fill_between(\n",
    "    X.ravel(),\n",
    "    f_true - 3 * np.sqrt(true_var),\n",
    "    f_true + 3 * np.sqrt(true_var),\n",
    "    color=\"blue\", alpha=0.2, label=\"True ±3σ\"\n",
    ")\n",
    "plt.fill_between(\n",
    "    X_star.ravel(),\n",
    "    mu_star - 3 * np.sqrt(var_star),\n",
    "    mu_star + 3 * np.sqrt(var_star),\n",
    "    color=\"red\", alpha=0.2, label=\"Predicted ±3σ\"\n",
    ")\n",
    "plt.legend()\n",
    "plt.title(\"1D Regression with Heteroscedastic Noise\")\n",
    "plt.grid()\n",
    "plt.show()"
   ]
  }
 ],
 "metadata": {
  "kernelspec": {
   "display_name": "Python 3",
   "language": "python",
   "name": "python3"
  },
  "language_info": {
   "codemirror_mode": {
    "name": "ipython",
    "version": 3
   },
   "file_extension": ".py",
   "mimetype": "text/x-python",
   "name": "python",
   "nbconvert_exporter": "python",
   "pygments_lexer": "ipython3",
   "version": "3.12.3"
  }
 },
 "nbformat": 4,
 "nbformat_minor": 5
}
